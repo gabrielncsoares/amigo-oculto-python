{
 "cells": [
  {
   "cell_type": "markdown",
   "metadata": {},
   "source": [
    "# Tarefa:\n",
    "Criar um sorteador de amigo oculto, criando uma função que recebe uma lista e retorna um dicionário que diz cada pessoa que está relacionada a quem"
   ]
  },
  {
   "cell_type": "code",
   "execution_count": 23,
   "metadata": {},
   "outputs": [],
   "source": [
    "import random"
   ]
  },
  {
   "cell_type": "code",
   "execution_count": 116,
   "metadata": {},
   "outputs": [],
   "source": [
    "lista = ['Gabriel', 'Flávio', 'Carlos', 'Isabela', 'Carol', 'Beatriz', 'Lucas', 'Roberto']"
   ]
  },
  {
   "cell_type": "code",
   "execution_count": 144,
   "metadata": {},
   "outputs": [],
   "source": [
    "def sorteados(lst):\n",
    "    if len(lista) % 2 != 0:\n",
    "        raise ValueError\n",
    "\n",
    "    random.shuffle(lst)\n",
    "    sorteados = [(lista[i], lista[i + 1]) for i in range(0, len(lst), 2)]\n",
    "\n",
    "    return sorteados\n",
    "\n",
    "lst = sorteados(lista)"
   ]
  },
  {
   "cell_type": "code",
   "execution_count": 147,
   "metadata": {},
   "outputs": [
    {
     "data": {
      "text/plain": [
       "[('Lucas', 'Carlos'),\n",
       " ('Beatriz', 'Carol'),\n",
       " ('Roberto', 'Gabriel'),\n",
       " ('Isabela', 'Flávio')]"
      ]
     },
     "execution_count": 147,
     "metadata": {},
     "output_type": "execute_result"
    }
   ],
   "source": [
    "lst"
   ]
  },
  {
   "cell_type": "code",
   "execution_count": 153,
   "metadata": {},
   "outputs": [],
   "source": [
    "def apresentar_sorteados():\n",
    "    print(f'{lst[0][0]} sorteou {lst[0][1]}')\n",
    "    print(f'{lst[1][0]} sorteou {lst[1][1]}')\n",
    "    print(f'{lst[2][0]} sorteou {lst[2][1]}')\n",
    "    print(f'{lst[3][0]} sorteou {lst[3][1]}')"
   ]
  },
  {
   "cell_type": "code",
   "execution_count": 154,
   "metadata": {},
   "outputs": [
    {
     "name": "stdout",
     "output_type": "stream",
     "text": [
      "Lucas sorteou Carlos\n",
      "Beatriz sorteou Carol\n",
      "Roberto sorteou Gabriel\n",
      "Isabela sorteou Flávio\n"
     ]
    }
   ],
   "source": [
    "apresentar_sorteados()"
   ]
  }
 ],
 "metadata": {
  "kernelspec": {
   "display_name": "Python 3",
   "language": "python",
   "name": "python3"
  },
  "language_info": {
   "codemirror_mode": {
    "name": "ipython",
    "version": 3
   },
   "file_extension": ".py",
   "mimetype": "text/x-python",
   "name": "python",
   "nbconvert_exporter": "python",
   "pygments_lexer": "ipython3",
   "version": "3.11.5"
  }
 },
 "nbformat": 4,
 "nbformat_minor": 2
}
